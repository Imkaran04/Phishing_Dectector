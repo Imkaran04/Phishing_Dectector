{
 "cells": [
  {
   "cell_type": "code",
   "execution_count": 1,
   "metadata": {
    "collapsed": true
   },
   "outputs": [],
   "source": [
    "import pandas as pd\n",
    "from sklearn.model_selection import train_test_split\n",
    "from sklearn.metrics import confusion_matrix\n",
    "from sklearn.metrics import accuracy_score\n",
    "from sklearn.ensemble import RandomForestClassifier\n",
    "import pickle"
   ]
  },
  {
   "cell_type": "code",
   "execution_count": 8,
   "outputs": [],
   "source": [
    "## Reading the dataset\n",
    "df_small = pd.read_csv('dataset_full.csv')\n",
    "df_full = pd.read_csv('dataset_full.csv')\n"
   ],
   "metadata": {
    "collapsed": false
   }
  },
  {
   "cell_type": "code",
   "execution_count": 9,
   "outputs": [],
   "source": [
    "\n",
    "## concatenating the two datasets\n",
    "\n",
    "frames = [df_small, df_full]\n",
    "result = pd.concat(frames)\n"
   ],
   "metadata": {
    "collapsed": false
   }
  },
  {
   "cell_type": "code",
   "execution_count": 10,
   "outputs": [
    {
     "data": {
      "text/plain": "qty_dot_url             0\nqty_hyphen_url          0\nqty_underline_url       0\nqty_slash_url           0\nqty_questionmark_url    0\n                       ..\nqty_redirects           0\nurl_google_index        0\ndomain_google_index     0\nurl_shortened           0\nphishing                0\nLength: 112, dtype: int64"
     },
     "execution_count": 10,
     "metadata": {},
     "output_type": "execute_result"
    }
   ],
   "source": [
    "## checking the null values in the dataset\n",
    "result.isnull().sum()"
   ],
   "metadata": {
    "collapsed": false
   }
  },
  {
   "cell_type": "code",
   "execution_count": 11,
   "outputs": [
    {
     "name": "stderr",
     "output_type": "stream",
     "text": [
      "C:\\Users\\Karan Singh\\AppData\\Local\\Temp\\ipykernel_30700\\4252529640.py:4: SettingWithCopyWarning: \n",
      "A value is trying to be set on a copy of a slice from a DataFrame.\n",
      "Try using .loc[row_indexer,col_indexer] = value instead\n",
      "\n",
      "See the caveats in the documentation: https://pandas.pydata.org/pandas-docs/stable/user_guide/indexing.html#returning-a-view-versus-a-copy\n",
      "  table1['phishing'] = result['phishing']\n",
      "C:\\Users\\Karan Singh\\AppData\\Local\\Temp\\ipykernel_30700\\4252529640.py:7: SettingWithCopyWarning: \n",
      "A value is trying to be set on a copy of a slice from a DataFrame.\n",
      "Try using .loc[row_indexer,col_indexer] = value instead\n",
      "\n",
      "See the caveats in the documentation: https://pandas.pydata.org/pandas-docs/stable/user_guide/indexing.html#returning-a-view-versus-a-copy\n",
      "  table2['phishing'] = result['phishing']\n",
      "C:\\Users\\Karan Singh\\AppData\\Local\\Temp\\ipykernel_30700\\4252529640.py:10: SettingWithCopyWarning: \n",
      "A value is trying to be set on a copy of a slice from a DataFrame.\n",
      "Try using .loc[row_indexer,col_indexer] = value instead\n",
      "\n",
      "See the caveats in the documentation: https://pandas.pydata.org/pandas-docs/stable/user_guide/indexing.html#returning-a-view-versus-a-copy\n",
      "  table3['phishing'] = result['phishing']\n",
      "C:\\Users\\Karan Singh\\AppData\\Local\\Temp\\ipykernel_30700\\4252529640.py:13: SettingWithCopyWarning: \n",
      "A value is trying to be set on a copy of a slice from a DataFrame.\n",
      "Try using .loc[row_indexer,col_indexer] = value instead\n",
      "\n",
      "See the caveats in the documentation: https://pandas.pydata.org/pandas-docs/stable/user_guide/indexing.html#returning-a-view-versus-a-copy\n",
      "  table4['phishing'] = result['phishing']\n",
      "C:\\Users\\Karan Singh\\AppData\\Local\\Temp\\ipykernel_30700\\4252529640.py:16: SettingWithCopyWarning: \n",
      "A value is trying to be set on a copy of a slice from a DataFrame.\n",
      "Try using .loc[row_indexer,col_indexer] = value instead\n",
      "\n",
      "See the caveats in the documentation: https://pandas.pydata.org/pandas-docs/stable/user_guide/indexing.html#returning-a-view-versus-a-copy\n",
      "  table5['phishing'] = result['phishing']\n"
     ]
    }
   ],
   "source": [
    "## Doing the feature extraction\n",
    "## table1\n",
    "table1 = result[result.columns[:20]]\n",
    "table1['phishing'] = result['phishing']\n",
    "## table2\n",
    "table2 = result[result.columns[20:40]]\n",
    "table2['phishing'] = result['phishing']\n",
    "## Table3\n",
    "table3 = result[result.columns[40:60]]\n",
    "table3['phishing'] = result['phishing']\n",
    "### Table4\n",
    "table4 = result[result.columns[60:80]]\n",
    "table4['phishing'] = result['phishing']\n",
    "## Table5\n",
    "table5 = result[result.columns[80:100]]\n",
    "table5['phishing'] = result['phishing']"
   ],
   "metadata": {
    "collapsed": false
   }
  },
  {
   "cell_type": "code",
   "execution_count": 12,
   "outputs": [
    {
     "data": {
      "text/plain": "Index(['qty_underline_file', 'qty_slash_file', 'qty_questionmark_file',\n       'qty_equal_file', 'qty_at_file', 'qty_and_file', 'qty_exclamation_file',\n       'qty_space_file', 'qty_tilde_file', 'qty_comma_file', 'qty_plus_file',\n       'qty_asterisk_file', 'qty_hashtag_file', 'qty_dollar_file', 'phishing'],\n      dtype='object')"
     },
     "execution_count": 12,
     "metadata": {},
     "output_type": "execute_result"
    }
   ],
   "source": [
    "## Extracting the columns in the table3\n",
    "tf4 = table4.corr()['phishing'][table4.corr()['phishing'] > .4]\n",
    "tf4.index\n"
   ],
   "metadata": {
    "collapsed": false
   }
  },
  {
   "cell_type": "code",
   "execution_count": 13,
   "outputs": [],
   "source": [
    "## Extracting the columns in the table3 and  table4 and appending into the list to construct the new dataset\n",
    "\n",
    "tf3 = table3.corr()['phishing'][table3.corr()['phishing'] > .4]\n",
    "tf3.index\n",
    "l = []\n",
    "for i in tf3.index:\n",
    "    l.append(i)\n",
    "for i in tf4.index:\n",
    "    l.append(i)\n",
    "l = l[:-1]"
   ],
   "metadata": {
    "collapsed": false
   }
  },
  {
   "cell_type": "code",
   "execution_count": 14,
   "outputs": [
    {
     "data": {
      "text/plain": "       qty_dot_directory  qty_hyphen_directory  qty_underline_directory  \\\n0                      1                     0                        0   \n1                      3                     0                        0   \n2                      0                     0                        0   \n3                      2                     0                        2   \n4                     -1                    -1                       -1   \n...                  ...                   ...                      ...   \n88642                 -1                    -1                       -1   \n88643                 -1                    -1                       -1   \n88644                  1                     1                        0   \n88645                  0                     0                        0   \n88646                 -1                    -1                       -1   \n\n       qty_slash_directory  qty_questionmark_directory  qty_equal_directory  \\\n0                        1                           0                    0   \n1                        3                           0                    0   \n2                        1                           0                    0   \n3                        5                           0                    0   \n4                       -1                          -1                   -1   \n...                    ...                         ...                  ...   \n88642                   -1                          -1                   -1   \n88643                   -1                          -1                   -1   \n88644                    5                           0                    0   \n88645                    1                           0                    0   \n88646                   -1                          -1                   -1   \n\n       qty_at_directory  qty_and_directory  qty_exclamation_directory  \\\n0                     0                  0                          0   \n1                     0                  0                          0   \n2                     0                  0                          0   \n3                     0                  0                          0   \n4                    -1                 -1                         -1   \n...                 ...                ...                        ...   \n88642                -1                 -1                         -1   \n88643                -1                 -1                         -1   \n88644                 0                  0                          0   \n88645                 0                  0                          0   \n88646                -1                 -1                         -1   \n\n       qty_space_directory  ...  qty_at_file  qty_and_file  \\\n0                        0  ...            0             0   \n1                        0  ...            0             0   \n2                        0  ...            0             0   \n3                        0  ...            0             0   \n4                       -1  ...           -1            -1   \n...                    ...  ...          ...           ...   \n88642                   -1  ...           -1            -1   \n88643                   -1  ...           -1            -1   \n88644                    0  ...            0             0   \n88645                    0  ...            0             0   \n88646                   -1  ...           -1            -1   \n\n       qty_exclamation_file  qty_space_file  qty_tilde_file  qty_comma_file  \\\n0                         0               0               0               0   \n1                         0               0               0               0   \n2                         0               0               0               0   \n3                         0               0               0               0   \n4                        -1              -1              -1              -1   \n...                     ...             ...             ...             ...   \n88642                    -1              -1              -1              -1   \n88643                    -1              -1              -1              -1   \n88644                     0               0               0               0   \n88645                     0               0               0               0   \n88646                    -1              -1              -1              -1   \n\n       qty_plus_file  qty_asterisk_file  qty_hashtag_file  qty_dollar_file  \n0                  0                  0                 0                0  \n1                  0                  0                 0                0  \n2                  0                  0                 0                0  \n3                  0                  0                 0                0  \n4                 -1                 -1                -1               -1  \n...              ...                ...               ...              ...  \n88642             -1                 -1                -1               -1  \n88643             -1                 -1                -1               -1  \n88644              0                  0                 0                0  \n88645              0                  0                 0                0  \n88646             -1                 -1                -1               -1  \n\n[177294 rows x 34 columns]",
      "text/html": "<div>\n<style scoped>\n    .dataframe tbody tr th:only-of-type {\n        vertical-align: middle;\n    }\n\n    .dataframe tbody tr th {\n        vertical-align: top;\n    }\n\n    .dataframe thead th {\n        text-align: right;\n    }\n</style>\n<table border=\"1\" class=\"dataframe\">\n  <thead>\n    <tr style=\"text-align: right;\">\n      <th></th>\n      <th>qty_dot_directory</th>\n      <th>qty_hyphen_directory</th>\n      <th>qty_underline_directory</th>\n      <th>qty_slash_directory</th>\n      <th>qty_questionmark_directory</th>\n      <th>qty_equal_directory</th>\n      <th>qty_at_directory</th>\n      <th>qty_and_directory</th>\n      <th>qty_exclamation_directory</th>\n      <th>qty_space_directory</th>\n      <th>...</th>\n      <th>qty_at_file</th>\n      <th>qty_and_file</th>\n      <th>qty_exclamation_file</th>\n      <th>qty_space_file</th>\n      <th>qty_tilde_file</th>\n      <th>qty_comma_file</th>\n      <th>qty_plus_file</th>\n      <th>qty_asterisk_file</th>\n      <th>qty_hashtag_file</th>\n      <th>qty_dollar_file</th>\n    </tr>\n  </thead>\n  <tbody>\n    <tr>\n      <th>0</th>\n      <td>1</td>\n      <td>0</td>\n      <td>0</td>\n      <td>1</td>\n      <td>0</td>\n      <td>0</td>\n      <td>0</td>\n      <td>0</td>\n      <td>0</td>\n      <td>0</td>\n      <td>...</td>\n      <td>0</td>\n      <td>0</td>\n      <td>0</td>\n      <td>0</td>\n      <td>0</td>\n      <td>0</td>\n      <td>0</td>\n      <td>0</td>\n      <td>0</td>\n      <td>0</td>\n    </tr>\n    <tr>\n      <th>1</th>\n      <td>3</td>\n      <td>0</td>\n      <td>0</td>\n      <td>3</td>\n      <td>0</td>\n      <td>0</td>\n      <td>0</td>\n      <td>0</td>\n      <td>0</td>\n      <td>0</td>\n      <td>...</td>\n      <td>0</td>\n      <td>0</td>\n      <td>0</td>\n      <td>0</td>\n      <td>0</td>\n      <td>0</td>\n      <td>0</td>\n      <td>0</td>\n      <td>0</td>\n      <td>0</td>\n    </tr>\n    <tr>\n      <th>2</th>\n      <td>0</td>\n      <td>0</td>\n      <td>0</td>\n      <td>1</td>\n      <td>0</td>\n      <td>0</td>\n      <td>0</td>\n      <td>0</td>\n      <td>0</td>\n      <td>0</td>\n      <td>...</td>\n      <td>0</td>\n      <td>0</td>\n      <td>0</td>\n      <td>0</td>\n      <td>0</td>\n      <td>0</td>\n      <td>0</td>\n      <td>0</td>\n      <td>0</td>\n      <td>0</td>\n    </tr>\n    <tr>\n      <th>3</th>\n      <td>2</td>\n      <td>0</td>\n      <td>2</td>\n      <td>5</td>\n      <td>0</td>\n      <td>0</td>\n      <td>0</td>\n      <td>0</td>\n      <td>0</td>\n      <td>0</td>\n      <td>...</td>\n      <td>0</td>\n      <td>0</td>\n      <td>0</td>\n      <td>0</td>\n      <td>0</td>\n      <td>0</td>\n      <td>0</td>\n      <td>0</td>\n      <td>0</td>\n      <td>0</td>\n    </tr>\n    <tr>\n      <th>4</th>\n      <td>-1</td>\n      <td>-1</td>\n      <td>-1</td>\n      <td>-1</td>\n      <td>-1</td>\n      <td>-1</td>\n      <td>-1</td>\n      <td>-1</td>\n      <td>-1</td>\n      <td>-1</td>\n      <td>...</td>\n      <td>-1</td>\n      <td>-1</td>\n      <td>-1</td>\n      <td>-1</td>\n      <td>-1</td>\n      <td>-1</td>\n      <td>-1</td>\n      <td>-1</td>\n      <td>-1</td>\n      <td>-1</td>\n    </tr>\n    <tr>\n      <th>...</th>\n      <td>...</td>\n      <td>...</td>\n      <td>...</td>\n      <td>...</td>\n      <td>...</td>\n      <td>...</td>\n      <td>...</td>\n      <td>...</td>\n      <td>...</td>\n      <td>...</td>\n      <td>...</td>\n      <td>...</td>\n      <td>...</td>\n      <td>...</td>\n      <td>...</td>\n      <td>...</td>\n      <td>...</td>\n      <td>...</td>\n      <td>...</td>\n      <td>...</td>\n      <td>...</td>\n    </tr>\n    <tr>\n      <th>88642</th>\n      <td>-1</td>\n      <td>-1</td>\n      <td>-1</td>\n      <td>-1</td>\n      <td>-1</td>\n      <td>-1</td>\n      <td>-1</td>\n      <td>-1</td>\n      <td>-1</td>\n      <td>-1</td>\n      <td>...</td>\n      <td>-1</td>\n      <td>-1</td>\n      <td>-1</td>\n      <td>-1</td>\n      <td>-1</td>\n      <td>-1</td>\n      <td>-1</td>\n      <td>-1</td>\n      <td>-1</td>\n      <td>-1</td>\n    </tr>\n    <tr>\n      <th>88643</th>\n      <td>-1</td>\n      <td>-1</td>\n      <td>-1</td>\n      <td>-1</td>\n      <td>-1</td>\n      <td>-1</td>\n      <td>-1</td>\n      <td>-1</td>\n      <td>-1</td>\n      <td>-1</td>\n      <td>...</td>\n      <td>-1</td>\n      <td>-1</td>\n      <td>-1</td>\n      <td>-1</td>\n      <td>-1</td>\n      <td>-1</td>\n      <td>-1</td>\n      <td>-1</td>\n      <td>-1</td>\n      <td>-1</td>\n    </tr>\n    <tr>\n      <th>88644</th>\n      <td>1</td>\n      <td>1</td>\n      <td>0</td>\n      <td>5</td>\n      <td>0</td>\n      <td>0</td>\n      <td>0</td>\n      <td>0</td>\n      <td>0</td>\n      <td>0</td>\n      <td>...</td>\n      <td>0</td>\n      <td>0</td>\n      <td>0</td>\n      <td>0</td>\n      <td>0</td>\n      <td>0</td>\n      <td>0</td>\n      <td>0</td>\n      <td>0</td>\n      <td>0</td>\n    </tr>\n    <tr>\n      <th>88645</th>\n      <td>0</td>\n      <td>0</td>\n      <td>0</td>\n      <td>1</td>\n      <td>0</td>\n      <td>0</td>\n      <td>0</td>\n      <td>0</td>\n      <td>0</td>\n      <td>0</td>\n      <td>...</td>\n      <td>0</td>\n      <td>0</td>\n      <td>0</td>\n      <td>0</td>\n      <td>0</td>\n      <td>0</td>\n      <td>0</td>\n      <td>0</td>\n      <td>0</td>\n      <td>0</td>\n    </tr>\n    <tr>\n      <th>88646</th>\n      <td>-1</td>\n      <td>-1</td>\n      <td>-1</td>\n      <td>-1</td>\n      <td>-1</td>\n      <td>-1</td>\n      <td>-1</td>\n      <td>-1</td>\n      <td>-1</td>\n      <td>-1</td>\n      <td>...</td>\n      <td>-1</td>\n      <td>-1</td>\n      <td>-1</td>\n      <td>-1</td>\n      <td>-1</td>\n      <td>-1</td>\n      <td>-1</td>\n      <td>-1</td>\n      <td>-1</td>\n      <td>-1</td>\n    </tr>\n  </tbody>\n</table>\n<p>177294 rows × 34 columns</p>\n</div>"
     },
     "execution_count": 14,
     "metadata": {},
     "output_type": "execute_result"
    }
   ],
   "source": [
    "## Final dataset after feature extraction\n",
    "df=result[l]\n",
    "df"
   ],
   "metadata": {
    "collapsed": false
   }
  },
  {
   "cell_type": "code",
   "execution_count": 15,
   "outputs": [],
   "source": [
    "## Phishing column is repeated twice so we are removing the phishing from the dataset\n",
    "df=df.drop(['qty_hyphen_directory'],axis=1)\n",
    "df=df.drop(['phishing'],axis=1)\n",
    "df=df.drop(['qty_slash_file'],axis=1)"
   ],
   "metadata": {
    "collapsed": false
   }
  },
  {
   "cell_type": "code",
   "execution_count": 16,
   "outputs": [],
   "source": [
    "## Adding the table1 columns into dataset\n",
    "df['qty_slash_url']=result['qty_slash_url']\n",
    "df['length_url']=result['length_url']\n",
    "df['phishing']=result['phishing']"
   ],
   "metadata": {
    "collapsed": false
   }
  },
  {
   "cell_type": "code",
   "execution_count": 17,
   "outputs": [],
   "source": [
    "## splitting the dataset\n",
    "X=df[df.columns[:-1]]"
   ],
   "metadata": {
    "collapsed": false
   }
  },
  {
   "cell_type": "code",
   "execution_count": 18,
   "outputs": [],
   "source": [
    "## Dependent column\n",
    "y=df[df.columns[-1]]"
   ],
   "metadata": {
    "collapsed": false
   }
  },
  {
   "cell_type": "code",
   "execution_count": 19,
   "outputs": [],
   "source": [
    "## Splitting the data into 70:30 ratio\n",
    "X_train, X_test, y_train, y_test = train_test_split( X, y, test_size=0.3, random_state=42)"
   ],
   "metadata": {
    "collapsed": false
   }
  },
  {
   "cell_type": "code",
   "execution_count": 20,
   "outputs": [],
   "source": [
    "rnd=RandomForestClassifier(max_depth=30, random_state=0)\n",
    "rnd.fit(X_train,y_train)\n",
    "pred=rnd.predict(X_test)"
   ],
   "metadata": {
    "collapsed": false
   }
  },
  {
   "cell_type": "code",
   "execution_count": 21,
   "outputs": [],
   "source": [
    "with open(\"random_forest2\", 'wb') as f:\n",
    "     pickle.dump(rnd, f)"
   ],
   "metadata": {
    "collapsed": false
   }
  },
  {
   "cell_type": "code",
   "execution_count": null,
   "outputs": [],
   "source": [],
   "metadata": {
    "collapsed": false
   }
  }
 ],
 "metadata": {
  "kernelspec": {
   "display_name": "Python 3",
   "language": "python",
   "name": "python3"
  },
  "language_info": {
   "codemirror_mode": {
    "name": "ipython",
    "version": 2
   },
   "file_extension": ".py",
   "mimetype": "text/x-python",
   "name": "python",
   "nbconvert_exporter": "python",
   "pygments_lexer": "ipython2",
   "version": "2.7.6"
  }
 },
 "nbformat": 4,
 "nbformat_minor": 0
}
